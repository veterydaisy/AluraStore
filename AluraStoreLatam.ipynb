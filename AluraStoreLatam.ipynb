{
  "nbformat": 4,
  "nbformat_minor": 0,
  "metadata": {
    "colab": {
      "provenance": []
    },
    "kernelspec": {
      "name": "python3",
      "display_name": "Python 3"
    },
    "language_info": {
      "name": "python"
    }
  },
  "cells": [
    {
      "cell_type": "markdown",
      "source": [
        "### Importación de datos\n",
        "\n"
      ],
      "metadata": {
        "id": "RhEdWd9YUR6H"
      }
    },
    {
      "cell_type": "code",
      "execution_count": 1,
      "metadata": {
        "colab": {
          "base_uri": "https://localhost:8080/",
          "height": 310
        },
        "id": "T3EvaeQ_INIL",
        "outputId": "3989ce2b-0610-4d73-ecc8-db7cc4789b8a"
      },
      "outputs": [
        {
          "output_type": "execute_result",
          "data": {
            "text/plain": [
              "            Producto Categoría del Producto    Precio  Costo de envío  \\\n",
              "0  Asistente virtual           Electrónicos  164300.0          6900.0   \n",
              "1    Mesa de comedor                Muebles  192300.0          8400.0   \n",
              "2      Juego de mesa               Juguetes  209600.0         15900.0   \n",
              "3         Microondas      Electrodomésticos  757500.0         41000.0   \n",
              "4   Silla de oficina                Muebles  335200.0         20200.0   \n",
              "\n",
              "  Fecha de Compra         Vendedor Lugar de Compra  Calificación  \\\n",
              "0      16/01/2021      Pedro Gomez          Bogotá             4   \n",
              "1      18/05/2022  Beatriz Morales        Medellín             1   \n",
              "2      15/03/2021   Juan Fernandez       Cartagena             1   \n",
              "3      03/05/2022   Juan Fernandez            Cali             4   \n",
              "4      07/11/2020    Maria Alfonso        Medellín             5   \n",
              "\n",
              "       Método de pago  Cantidad de cuotas       lat       lon  \n",
              "0  Tarjeta de crédito                   8   4.60971 -74.08175  \n",
              "1  Tarjeta de crédito                   4   6.25184 -75.56359  \n",
              "2  Tarjeta de crédito                   1  10.39972 -75.51444  \n",
              "3               Nequi                   1   3.43722 -76.52250  \n",
              "4               Nequi                   1   6.25184 -75.56359  "
            ],
            "text/html": [
              "\n",
              "  <div id=\"df-5ad77ae7-90ac-4e3d-821b-fafacd28c1a6\" class=\"colab-df-container\">\n",
              "    <div>\n",
              "<style scoped>\n",
              "    .dataframe tbody tr th:only-of-type {\n",
              "        vertical-align: middle;\n",
              "    }\n",
              "\n",
              "    .dataframe tbody tr th {\n",
              "        vertical-align: top;\n",
              "    }\n",
              "\n",
              "    .dataframe thead th {\n",
              "        text-align: right;\n",
              "    }\n",
              "</style>\n",
              "<table border=\"1\" class=\"dataframe\">\n",
              "  <thead>\n",
              "    <tr style=\"text-align: right;\">\n",
              "      <th></th>\n",
              "      <th>Producto</th>\n",
              "      <th>Categoría del Producto</th>\n",
              "      <th>Precio</th>\n",
              "      <th>Costo de envío</th>\n",
              "      <th>Fecha de Compra</th>\n",
              "      <th>Vendedor</th>\n",
              "      <th>Lugar de Compra</th>\n",
              "      <th>Calificación</th>\n",
              "      <th>Método de pago</th>\n",
              "      <th>Cantidad de cuotas</th>\n",
              "      <th>lat</th>\n",
              "      <th>lon</th>\n",
              "    </tr>\n",
              "  </thead>\n",
              "  <tbody>\n",
              "    <tr>\n",
              "      <th>0</th>\n",
              "      <td>Asistente virtual</td>\n",
              "      <td>Electrónicos</td>\n",
              "      <td>164300.0</td>\n",
              "      <td>6900.0</td>\n",
              "      <td>16/01/2021</td>\n",
              "      <td>Pedro Gomez</td>\n",
              "      <td>Bogotá</td>\n",
              "      <td>4</td>\n",
              "      <td>Tarjeta de crédito</td>\n",
              "      <td>8</td>\n",
              "      <td>4.60971</td>\n",
              "      <td>-74.08175</td>\n",
              "    </tr>\n",
              "    <tr>\n",
              "      <th>1</th>\n",
              "      <td>Mesa de comedor</td>\n",
              "      <td>Muebles</td>\n",
              "      <td>192300.0</td>\n",
              "      <td>8400.0</td>\n",
              "      <td>18/05/2022</td>\n",
              "      <td>Beatriz Morales</td>\n",
              "      <td>Medellín</td>\n",
              "      <td>1</td>\n",
              "      <td>Tarjeta de crédito</td>\n",
              "      <td>4</td>\n",
              "      <td>6.25184</td>\n",
              "      <td>-75.56359</td>\n",
              "    </tr>\n",
              "    <tr>\n",
              "      <th>2</th>\n",
              "      <td>Juego de mesa</td>\n",
              "      <td>Juguetes</td>\n",
              "      <td>209600.0</td>\n",
              "      <td>15900.0</td>\n",
              "      <td>15/03/2021</td>\n",
              "      <td>Juan Fernandez</td>\n",
              "      <td>Cartagena</td>\n",
              "      <td>1</td>\n",
              "      <td>Tarjeta de crédito</td>\n",
              "      <td>1</td>\n",
              "      <td>10.39972</td>\n",
              "      <td>-75.51444</td>\n",
              "    </tr>\n",
              "    <tr>\n",
              "      <th>3</th>\n",
              "      <td>Microondas</td>\n",
              "      <td>Electrodomésticos</td>\n",
              "      <td>757500.0</td>\n",
              "      <td>41000.0</td>\n",
              "      <td>03/05/2022</td>\n",
              "      <td>Juan Fernandez</td>\n",
              "      <td>Cali</td>\n",
              "      <td>4</td>\n",
              "      <td>Nequi</td>\n",
              "      <td>1</td>\n",
              "      <td>3.43722</td>\n",
              "      <td>-76.52250</td>\n",
              "    </tr>\n",
              "    <tr>\n",
              "      <th>4</th>\n",
              "      <td>Silla de oficina</td>\n",
              "      <td>Muebles</td>\n",
              "      <td>335200.0</td>\n",
              "      <td>20200.0</td>\n",
              "      <td>07/11/2020</td>\n",
              "      <td>Maria Alfonso</td>\n",
              "      <td>Medellín</td>\n",
              "      <td>5</td>\n",
              "      <td>Nequi</td>\n",
              "      <td>1</td>\n",
              "      <td>6.25184</td>\n",
              "      <td>-75.56359</td>\n",
              "    </tr>\n",
              "  </tbody>\n",
              "</table>\n",
              "</div>\n",
              "    <div class=\"colab-df-buttons\">\n",
              "\n",
              "  <div class=\"colab-df-container\">\n",
              "    <button class=\"colab-df-convert\" onclick=\"convertToInteractive('df-5ad77ae7-90ac-4e3d-821b-fafacd28c1a6')\"\n",
              "            title=\"Convert this dataframe to an interactive table.\"\n",
              "            style=\"display:none;\">\n",
              "\n",
              "  <svg xmlns=\"http://www.w3.org/2000/svg\" height=\"24px\" viewBox=\"0 -960 960 960\">\n",
              "    <path d=\"M120-120v-720h720v720H120Zm60-500h600v-160H180v160Zm220 220h160v-160H400v160Zm0 220h160v-160H400v160ZM180-400h160v-160H180v160Zm440 0h160v-160H620v160ZM180-180h160v-160H180v160Zm440 0h160v-160H620v160Z\"/>\n",
              "  </svg>\n",
              "    </button>\n",
              "\n",
              "  <style>\n",
              "    .colab-df-container {\n",
              "      display:flex;\n",
              "      gap: 12px;\n",
              "    }\n",
              "\n",
              "    .colab-df-convert {\n",
              "      background-color: #E8F0FE;\n",
              "      border: none;\n",
              "      border-radius: 50%;\n",
              "      cursor: pointer;\n",
              "      display: none;\n",
              "      fill: #1967D2;\n",
              "      height: 32px;\n",
              "      padding: 0 0 0 0;\n",
              "      width: 32px;\n",
              "    }\n",
              "\n",
              "    .colab-df-convert:hover {\n",
              "      background-color: #E2EBFA;\n",
              "      box-shadow: 0px 1px 2px rgba(60, 64, 67, 0.3), 0px 1px 3px 1px rgba(60, 64, 67, 0.15);\n",
              "      fill: #174EA6;\n",
              "    }\n",
              "\n",
              "    .colab-df-buttons div {\n",
              "      margin-bottom: 4px;\n",
              "    }\n",
              "\n",
              "    [theme=dark] .colab-df-convert {\n",
              "      background-color: #3B4455;\n",
              "      fill: #D2E3FC;\n",
              "    }\n",
              "\n",
              "    [theme=dark] .colab-df-convert:hover {\n",
              "      background-color: #434B5C;\n",
              "      box-shadow: 0px 1px 3px 1px rgba(0, 0, 0, 0.15);\n",
              "      filter: drop-shadow(0px 1px 2px rgba(0, 0, 0, 0.3));\n",
              "      fill: #FFFFFF;\n",
              "    }\n",
              "  </style>\n",
              "\n",
              "    <script>\n",
              "      const buttonEl =\n",
              "        document.querySelector('#df-5ad77ae7-90ac-4e3d-821b-fafacd28c1a6 button.colab-df-convert');\n",
              "      buttonEl.style.display =\n",
              "        google.colab.kernel.accessAllowed ? 'block' : 'none';\n",
              "\n",
              "      async function convertToInteractive(key) {\n",
              "        const element = document.querySelector('#df-5ad77ae7-90ac-4e3d-821b-fafacd28c1a6');\n",
              "        const dataTable =\n",
              "          await google.colab.kernel.invokeFunction('convertToInteractive',\n",
              "                                                    [key], {});\n",
              "        if (!dataTable) return;\n",
              "\n",
              "        const docLinkHtml = 'Like what you see? Visit the ' +\n",
              "          '<a target=\"_blank\" href=https://colab.research.google.com/notebooks/data_table.ipynb>data table notebook</a>'\n",
              "          + ' to learn more about interactive tables.';\n",
              "        element.innerHTML = '';\n",
              "        dataTable['output_type'] = 'display_data';\n",
              "        await google.colab.output.renderOutput(dataTable, element);\n",
              "        const docLink = document.createElement('div');\n",
              "        docLink.innerHTML = docLinkHtml;\n",
              "        element.appendChild(docLink);\n",
              "      }\n",
              "    </script>\n",
              "  </div>\n",
              "\n",
              "\n",
              "    <div id=\"df-5c84b4b9-1240-4eab-9334-c348a495e7e8\">\n",
              "      <button class=\"colab-df-quickchart\" onclick=\"quickchart('df-5c84b4b9-1240-4eab-9334-c348a495e7e8')\"\n",
              "                title=\"Suggest charts\"\n",
              "                style=\"display:none;\">\n",
              "\n",
              "<svg xmlns=\"http://www.w3.org/2000/svg\" height=\"24px\"viewBox=\"0 0 24 24\"\n",
              "     width=\"24px\">\n",
              "    <g>\n",
              "        <path d=\"M19 3H5c-1.1 0-2 .9-2 2v14c0 1.1.9 2 2 2h14c1.1 0 2-.9 2-2V5c0-1.1-.9-2-2-2zM9 17H7v-7h2v7zm4 0h-2V7h2v10zm4 0h-2v-4h2v4z\"/>\n",
              "    </g>\n",
              "</svg>\n",
              "      </button>\n",
              "\n",
              "<style>\n",
              "  .colab-df-quickchart {\n",
              "      --bg-color: #E8F0FE;\n",
              "      --fill-color: #1967D2;\n",
              "      --hover-bg-color: #E2EBFA;\n",
              "      --hover-fill-color: #174EA6;\n",
              "      --disabled-fill-color: #AAA;\n",
              "      --disabled-bg-color: #DDD;\n",
              "  }\n",
              "\n",
              "  [theme=dark] .colab-df-quickchart {\n",
              "      --bg-color: #3B4455;\n",
              "      --fill-color: #D2E3FC;\n",
              "      --hover-bg-color: #434B5C;\n",
              "      --hover-fill-color: #FFFFFF;\n",
              "      --disabled-bg-color: #3B4455;\n",
              "      --disabled-fill-color: #666;\n",
              "  }\n",
              "\n",
              "  .colab-df-quickchart {\n",
              "    background-color: var(--bg-color);\n",
              "    border: none;\n",
              "    border-radius: 50%;\n",
              "    cursor: pointer;\n",
              "    display: none;\n",
              "    fill: var(--fill-color);\n",
              "    height: 32px;\n",
              "    padding: 0;\n",
              "    width: 32px;\n",
              "  }\n",
              "\n",
              "  .colab-df-quickchart:hover {\n",
              "    background-color: var(--hover-bg-color);\n",
              "    box-shadow: 0 1px 2px rgba(60, 64, 67, 0.3), 0 1px 3px 1px rgba(60, 64, 67, 0.15);\n",
              "    fill: var(--button-hover-fill-color);\n",
              "  }\n",
              "\n",
              "  .colab-df-quickchart-complete:disabled,\n",
              "  .colab-df-quickchart-complete:disabled:hover {\n",
              "    background-color: var(--disabled-bg-color);\n",
              "    fill: var(--disabled-fill-color);\n",
              "    box-shadow: none;\n",
              "  }\n",
              "\n",
              "  .colab-df-spinner {\n",
              "    border: 2px solid var(--fill-color);\n",
              "    border-color: transparent;\n",
              "    border-bottom-color: var(--fill-color);\n",
              "    animation:\n",
              "      spin 1s steps(1) infinite;\n",
              "  }\n",
              "\n",
              "  @keyframes spin {\n",
              "    0% {\n",
              "      border-color: transparent;\n",
              "      border-bottom-color: var(--fill-color);\n",
              "      border-left-color: var(--fill-color);\n",
              "    }\n",
              "    20% {\n",
              "      border-color: transparent;\n",
              "      border-left-color: var(--fill-color);\n",
              "      border-top-color: var(--fill-color);\n",
              "    }\n",
              "    30% {\n",
              "      border-color: transparent;\n",
              "      border-left-color: var(--fill-color);\n",
              "      border-top-color: var(--fill-color);\n",
              "      border-right-color: var(--fill-color);\n",
              "    }\n",
              "    40% {\n",
              "      border-color: transparent;\n",
              "      border-right-color: var(--fill-color);\n",
              "      border-top-color: var(--fill-color);\n",
              "    }\n",
              "    60% {\n",
              "      border-color: transparent;\n",
              "      border-right-color: var(--fill-color);\n",
              "    }\n",
              "    80% {\n",
              "      border-color: transparent;\n",
              "      border-right-color: var(--fill-color);\n",
              "      border-bottom-color: var(--fill-color);\n",
              "    }\n",
              "    90% {\n",
              "      border-color: transparent;\n",
              "      border-bottom-color: var(--fill-color);\n",
              "    }\n",
              "  }\n",
              "</style>\n",
              "\n",
              "      <script>\n",
              "        async function quickchart(key) {\n",
              "          const quickchartButtonEl =\n",
              "            document.querySelector('#' + key + ' button');\n",
              "          quickchartButtonEl.disabled = true;  // To prevent multiple clicks.\n",
              "          quickchartButtonEl.classList.add('colab-df-spinner');\n",
              "          try {\n",
              "            const charts = await google.colab.kernel.invokeFunction(\n",
              "                'suggestCharts', [key], {});\n",
              "          } catch (error) {\n",
              "            console.error('Error during call to suggestCharts:', error);\n",
              "          }\n",
              "          quickchartButtonEl.classList.remove('colab-df-spinner');\n",
              "          quickchartButtonEl.classList.add('colab-df-quickchart-complete');\n",
              "        }\n",
              "        (() => {\n",
              "          let quickchartButtonEl =\n",
              "            document.querySelector('#df-5c84b4b9-1240-4eab-9334-c348a495e7e8 button');\n",
              "          quickchartButtonEl.style.display =\n",
              "            google.colab.kernel.accessAllowed ? 'block' : 'none';\n",
              "        })();\n",
              "      </script>\n",
              "    </div>\n",
              "\n",
              "    </div>\n",
              "  </div>\n"
            ],
            "application/vnd.google.colaboratory.intrinsic+json": {
              "type": "dataframe",
              "variable_name": "tienda",
              "summary": "{\n  \"name\": \"tienda\",\n  \"rows\": 2359,\n  \"fields\": [\n    {\n      \"column\": \"Producto\",\n      \"properties\": {\n        \"dtype\": \"category\",\n        \"num_unique_values\": 51,\n        \"samples\": [\n          \"Guitarra ac\\u00fastica\",\n          \"Bal\\u00f3n de baloncesto\",\n          \"Smartwatch\"\n        ],\n        \"semantic_type\": \"\",\n        \"description\": \"\"\n      }\n    },\n    {\n      \"column\": \"Categor\\u00eda del Producto\",\n      \"properties\": {\n        \"dtype\": \"category\",\n        \"num_unique_values\": 8,\n        \"samples\": [\n          \"Muebles\",\n          \"Deportes y diversi\\u00f3n\",\n          \"Electr\\u00f3nicos\"\n        ],\n        \"semantic_type\": \"\",\n        \"description\": \"\"\n      }\n    },\n    {\n      \"column\": \"Precio\",\n      \"properties\": {\n        \"dtype\": \"number\",\n        \"std\": 614686.7653873172,\n        \"min\": 7600.0,\n        \"max\": 2977000.0,\n        \"num_unique_values\": 1937,\n        \"samples\": [\n          2499400.0,\n          14800.0,\n          80500.0\n        ],\n        \"semantic_type\": \"\",\n        \"description\": \"\"\n      }\n    },\n    {\n      \"column\": \"Costo de env\\u00edo\",\n      \"properties\": {\n        \"dtype\": \"number\",\n        \"std\": 32860.0017825605,\n        \"min\": 0.0,\n        \"max\": 160800.0,\n        \"num_unique_values\": 753,\n        \"samples\": [\n          117800.0,\n          54700.0,\n          45600.0\n        ],\n        \"semantic_type\": \"\",\n        \"description\": \"\"\n      }\n    },\n    {\n      \"column\": \"Fecha de Compra\",\n      \"properties\": {\n        \"dtype\": \"object\",\n        \"num_unique_values\": 1018,\n        \"samples\": [\n          \"15/09/2022\",\n          \"03/06/2020\",\n          \"06/11/2021\"\n        ],\n        \"semantic_type\": \"\",\n        \"description\": \"\"\n      }\n    },\n    {\n      \"column\": \"Vendedor\",\n      \"properties\": {\n        \"dtype\": \"category\",\n        \"num_unique_values\": 14,\n        \"samples\": [\n          \"Juliana Costa\",\n          \"Mariana Herrera\",\n          \"Pedro Gomez\"\n        ],\n        \"semantic_type\": \"\",\n        \"description\": \"\"\n      }\n    },\n    {\n      \"column\": \"Lugar de Compra\",\n      \"properties\": {\n        \"dtype\": \"category\",\n        \"num_unique_values\": 19,\n        \"samples\": [\n          \"Bogot\\u00e1\",\n          \"Pereira\",\n          \"Neiva\"\n        ],\n        \"semantic_type\": \"\",\n        \"description\": \"\"\n      }\n    },\n    {\n      \"column\": \"Calificaci\\u00f3n\",\n      \"properties\": {\n        \"dtype\": \"number\",\n        \"std\": 1,\n        \"min\": 1,\n        \"max\": 5,\n        \"num_unique_values\": 5,\n        \"samples\": [\n          1,\n          2,\n          5\n        ],\n        \"semantic_type\": \"\",\n        \"description\": \"\"\n      }\n    },\n    {\n      \"column\": \"M\\u00e9todo de pago\",\n      \"properties\": {\n        \"dtype\": \"category\",\n        \"num_unique_values\": 4,\n        \"samples\": [\n          \"Nequi\",\n          \"Tarjeta de d\\u00e9bito\",\n          \"Tarjeta de cr\\u00e9dito\"\n        ],\n        \"semantic_type\": \"\",\n        \"description\": \"\"\n      }\n    },\n    {\n      \"column\": \"Cantidad de cuotas\",\n      \"properties\": {\n        \"dtype\": \"number\",\n        \"std\": 2,\n        \"min\": 1,\n        \"max\": 24,\n        \"num_unique_values\": 15,\n        \"samples\": [\n          7,\n          14,\n          8\n        ],\n        \"semantic_type\": \"\",\n        \"description\": \"\"\n      }\n    },\n    {\n      \"column\": \"lat\",\n      \"properties\": {\n        \"dtype\": \"number\",\n        \"std\": 2.2874452492678627,\n        \"min\": -4.21528,\n        \"max\": 11.54444,\n        \"num_unique_values\": 19,\n        \"samples\": [\n          4.60971,\n          4.81333,\n          2.9273\n        ],\n        \"semantic_type\": \"\",\n        \"description\": \"\"\n      }\n    },\n    {\n      \"column\": \"lon\",\n      \"properties\": {\n        \"dtype\": \"number\",\n        \"std\": 1.2178272727088486,\n        \"min\": -77.28111,\n        \"max\": -67.9239,\n        \"num_unique_values\": 19,\n        \"samples\": [\n          -74.08175,\n          -75.69611,\n          -75.28189\n        ],\n        \"semantic_type\": \"\",\n        \"description\": \"\"\n      }\n    }\n  ]\n}"
            }
          },
          "metadata": {},
          "execution_count": 1
        }
      ],
      "source": [
        "import pandas as pd\n",
        "\n",
        "url = \"https://raw.githubusercontent.com/alura-es-cursos/challenge1-data-science-latam/refs/heads/main/base-de-datos-challenge1-latam/tienda_1%20.csv\"\n",
        "url2 = \"https://raw.githubusercontent.com/alura-es-cursos/challenge1-data-science-latam/refs/heads/main/base-de-datos-challenge1-latam/tienda_2.csv\"\n",
        "url3 = \"https://raw.githubusercontent.com/alura-es-cursos/challenge1-data-science-latam/refs/heads/main/base-de-datos-challenge1-latam/tienda_3.csv\"\n",
        "url4 = \"https://raw.githubusercontent.com/alura-es-cursos/challenge1-data-science-latam/refs/heads/main/base-de-datos-challenge1-latam/tienda_4.csv\"\n",
        "\n",
        "tienda = pd.read_csv(url)\n",
        "tienda2 = pd.read_csv(url2)\n",
        "tienda3 = pd.read_csv(url3)\n",
        "tienda4 = pd.read_csv(url4)\n",
        "\n",
        "tienda.head()"
      ]
    },
    {
      "cell_type": "markdown",
      "source": [
        "#1. Análisis de facturación\n",
        "\n"
      ],
      "metadata": {
        "id": "X62IW3KFUIYm"
      }
    },
    {
      "cell_type": "markdown",
      "source": [
        "Primero se calcula el ingreso total de los productos vendidos por cada tienda"
      ],
      "metadata": {
        "id": "xAwL8myBiHYh"
      }
    },
    {
      "cell_type": "code",
      "source": [
        "total_ventas_tienda_1 = tienda['Precio'].sum()\n",
        "print(f'El total de las ventas de la tienda 1 es: $ {total_ventas_tienda_1}')\n",
        "\n",
        "total_ventas_tienda_2 = tienda2['Precio'].sum()\n",
        "print(f'El total de las ventas de la tienda 2 es: $ {total_ventas_tienda_2}')\n",
        "\n",
        "total_ventas_tienda_3 = tienda3['Precio'].sum()\n",
        "print(f'El total de las ventas de la tienda 1 es: $ {total_ventas_tienda_3}')\n",
        "\n",
        "total_ventas_tienda_4 = tienda4['Precio'].sum()\n",
        "print(f'El total de las ventas de la tienda 1 es: $ {total_ventas_tienda_4}')"
      ],
      "metadata": {
        "id": "KDyr8E71V3m-",
        "outputId": "67afeef1-dbb4-4371-ef6f-bc60dd6c48b2",
        "colab": {
          "base_uri": "https://localhost:8080/"
        }
      },
      "execution_count": 2,
      "outputs": [
        {
          "output_type": "stream",
          "name": "stdout",
          "text": [
            "El total de las ventas de la tienda 1 es: $ 1150880400.0\n",
            "El total de las ventas de la tienda 2 es: $ 1116343500.0\n",
            "El total de las ventas de la tienda 1 es: $ 1098019600.0\n",
            "El total de las ventas de la tienda 1 es: $ 1038375700.0\n"
          ]
        }
      ]
    },
    {
      "cell_type": "markdown",
      "source": [
        "# 2. Ventas por categoría"
      ],
      "metadata": {
        "id": "2V_vcAPzWZmR"
      }
    },
    {
      "cell_type": "markdown",
      "source": [
        "En este debes calcular la cantidad de productos vendidos por categoría en cada tienda. La idea es agrupar los datos por categoría y contar el número de ventas de cada tipo, mostrando las categorías más populares de cada tienda."
      ],
      "metadata": {
        "id": "v3t0eI4piRpv"
      }
    },
    {
      "cell_type": "code",
      "source": [
        "\n",
        "categorias_tienda_1 = tienda.groupby('Categoría del Producto')['Categoría del Producto'].count()\n",
        "\n",
        "print(f'las cantidad de productos vendidos por categoria de la tienda 1 son :\\n{categorias_tienda_1}\\n\\n')\n",
        "\n",
        "categorias_tienda_2 = tienda2.groupby('Categoría del Producto')['Categoría del Producto'].count()\n",
        "print(f'las cantidad de productos vendidos por categoria de la tienda 2 son :\\n{categorias_tienda_2}\\n\\n')\n",
        "\n",
        "#categorias_tienda_3 = tienda3.groupby('Categoría del Producto')['Categoría del Producto'].count()\n",
        "#print(f'las cantidad de productos vendidos por categoria de la tienda 3 son :\\n{categorias_tienda_3}\\n\\n')\n",
        "\n",
        "#categorias_tienda_4 = tienda4.groupby('Categoría del Producto')['Categoría del Producto'].count()\n",
        "#print(f'las cantidad de productos vendidos por categoria de la tienda 4 son :\\n{categorias_tienda_4}\\n\\n')"
      ],
      "metadata": {
        "id": "ss8i5aneY_Z7",
        "outputId": "925dc8a4-a261-4da8-d6ee-9cabc01f0dc9",
        "colab": {
          "base_uri": "https://localhost:8080/"
        }
      },
      "execution_count": 57,
      "outputs": [
        {
          "output_type": "stream",
          "name": "stdout",
          "text": [
            "las cantidad de productos vendidos por categoria de la tienda 1 son :\n",
            "Categoría del Producto\n",
            "Artículos para el hogar    171\n",
            "Deportes y diversión       284\n",
            "Electrodomésticos          312\n",
            "Electrónicos               448\n",
            "Instrumentos musicales     182\n",
            "Juguetes                   324\n",
            "Libros                     173\n",
            "Muebles                    465\n",
            "Name: Categoría del Producto, dtype: int64\n",
            "\n",
            "\n",
            "las cantidad de productos vendidos por categoria de la tienda 2 son :\n",
            "Categoría del Producto\n",
            "Artículos para el hogar    181\n",
            "Deportes y diversión       275\n",
            "Electrodomésticos          305\n",
            "Electrónicos               422\n",
            "Instrumentos musicales     224\n",
            "Juguetes                   313\n",
            "Libros                     197\n",
            "Muebles                    442\n",
            "Name: Categoría del Producto, dtype: int64\n",
            "\n",
            "\n"
          ]
        }
      ]
    },
    {
      "cell_type": "code",
      "source": [
        "#buscando el mas y menos  vendido\n",
        "if categorias_tienda_1.max():\n",
        "  print(f'La categoria mas vendida de la tienda 1 es: {categorias_tienda_1.idxmax()}')\n",
        "else:\n",
        "  print('No hay categorias vendidas')\n",
        "\n",
        "if categorias_tienda_1.min():\n",
        "  print(f'La categoria menos vendida de la tienda 1 es: {categorias_tienda_1.idxmin()}\\n')\n",
        "else:\n",
        "  print('No hay categorias vendidas')\n",
        "\n",
        "#tienda 2\n",
        "if categorias_tienda_2.max():\n",
        "  print(f'La categoria mas vendida de la tienda 2 es: {categorias_tienda_2.idxmax()}')\n",
        "else:\n",
        "  print('No hay categorias vendidas')\n",
        "\n",
        "if categorias_tienda_2.min():\n",
        "  print(f'La categoria menos vendida de la tienda 2 es: {categorias_tienda_2.idxmin()}')\n",
        "else:\n",
        "  print('No hay categorias vendidas')"
      ],
      "metadata": {
        "id": "A34YupIuYhfF",
        "outputId": "ef6ab342-596b-4ba5-fc95-0230076d1681",
        "colab": {
          "base_uri": "https://localhost:8080/"
        }
      },
      "execution_count": 60,
      "outputs": [
        {
          "output_type": "stream",
          "name": "stdout",
          "text": [
            "La categoria mas vendida de la tienda 1 es: Muebles\n",
            "La categoria menos vendida de la tienda 1 es: Artículos para el hogar\n",
            "\n",
            "La categoria mas vendida de la tienda 2 es: Muebles\n",
            "La categoria menos vendida de la tienda 2 es: Artículos para el hogar\n"
          ]
        }
      ]
    },
    {
      "cell_type": "code",
      "source": [],
      "metadata": {
        "id": "yZR6cOjXYSk1"
      },
      "execution_count": null,
      "outputs": []
    },
    {
      "cell_type": "markdown",
      "source": [
        "# 3. Calificación promedio de la tienda\n"
      ],
      "metadata": {
        "id": "Rq6tU_xSY3jk"
      }
    },
    {
      "cell_type": "code",
      "source": [
        "calificacion_tienda_1 = tienda['Calificación'].sum()/tienda['Calificación'].count()\n",
        "print(f'La calificación promedio de la tienda 1 es: {calificacion_tienda_1}\\n\\n')\n",
        "\n",
        "calificacion_tienda_2 = tienda2['Calificación'].sum()/tienda2['Calificación'].count()\n",
        "print(f'La calificación promedio de la tienda 2 es: {calificacion_tienda_2}\\n\\n')\n",
        "\n",
        "calificacion_tienda_3 = tienda3['Calificación'].sum()/tienda3['Calificación'].count()\n",
        "print(f'La calificación promedio de la tienda 3 es: {calificacion_tienda_3}\\n\\n')\n",
        "\n",
        "calificacion_tienda_4 = tienda4['Calificación'].sum()/tienda4['Calificación'].count()\n",
        "print(f'La calificación promedio de la tienda 4 es: {calificacion_tienda_4}\\n\\n')"
      ],
      "metadata": {
        "id": "bh3jjjJwY5MU",
        "outputId": "43ffb81d-e054-4c3a-aea7-3d8bf087bb27",
        "colab": {
          "base_uri": "https://localhost:8080/"
        }
      },
      "execution_count": 6,
      "outputs": [
        {
          "output_type": "stream",
          "name": "stdout",
          "text": [
            "La calificación promedio de la tienda 1 es: 3.976685036032217\n",
            "\n",
            "\n",
            "La calificación promedio de la tienda 2 es: 4.037303942348453\n",
            "\n",
            "\n",
            "La calificación promedio de la tienda 3 es: 4.048325561678677\n",
            "\n",
            "\n",
            "La calificación promedio de la tienda 4 es: 3.9957591178965224\n",
            "\n",
            "\n"
          ]
        }
      ]
    },
    {
      "cell_type": "code",
      "source": [],
      "metadata": {
        "id": "I0KkjPoTY88F"
      },
      "execution_count": 9,
      "outputs": []
    },
    {
      "cell_type": "markdown",
      "source": [
        "# 4. Productos más y menos vendidos"
      ],
      "metadata": {
        "id": "DmNp1KPBZCm-"
      }
    },
    {
      "cell_type": "code",
      "source": [
        "productos_tienda_1 = tienda.groupby('Producto')['Producto'].count()\n",
        "print(f'las cantidad de productos vendidos de la tienda 1 son :\\n{productos_tienda_1}\\n\\n')"
      ],
      "metadata": {
        "id": "0Sw3sd4IZIGW",
        "outputId": "fe6f3f7d-c5f2-46c8-f5e4-edceb935e5be",
        "colab": {
          "base_uri": "https://localhost:8080/"
        }
      },
      "execution_count": 19,
      "outputs": [
        {
          "output_type": "stream",
          "name": "stdout",
          "text": [
            "las cantidad de productos vendidos de la tienda 1 son :\n",
            "Producto\n",
            "Ajedrez de madera              49\n",
            "Armario                        60\n",
            "Asistente virtual              40\n",
            "Auriculares                    50\n",
            "Auriculares con micrófono      33\n",
            "Balón de baloncesto            55\n",
            "Balón de voleibol              42\n",
            "Batería                        53\n",
            "Bicicleta                      54\n",
            "Bloques de construcción        56\n",
            "Cama box                       44\n",
            "Cama king                      44\n",
            "Carrito de control remoto      52\n",
            "Celular ABXY                   33\n",
            "Ciencia de datos con Python    39\n",
            "Cubertería                     52\n",
            "Cubo mágico 8x8                44\n",
            "Cuerda para saltar             40\n",
            "Dashboards con Power BI        42\n",
            "Dinosaurio Rex                 40\n",
            "Estufa                         45\n",
            "Guitarra acústica              46\n",
            "Guitarra eléctrica             47\n",
            "Impresora                      54\n",
            "Iniciando en programación      41\n",
            "Iphone 15                      49\n",
            "Juego de mesa                  43\n",
            "Kit de bancas                  44\n",
            "Lavadora de ropa               47\n",
            "Lavavajillas                   48\n",
            "Mesa de centro                 44\n",
            "Mesa de comedor                40\n",
            "Mesa de noche                  56\n",
            "Microondas                     60\n",
            "Mochila                        39\n",
            "Modelado predictivo            51\n",
            "Muñeca bebé                    40\n",
            "Olla de presión                35\n",
            "Pandereta                      36\n",
            "Refrigerador                   54\n",
            "Secadora de ropa               58\n",
            "Set de ollas                   43\n",
            "Set de vasos                   41\n",
            "Silla de oficina               46\n",
            "Sillón                         41\n",
            "Smart TV                       44\n",
            "Smartwatch                     43\n",
            "Sofá reclinable                46\n",
            "TV LED UHD 4K                  60\n",
            "Tablet ABXY                    42\n",
            "Vaso térmico                   54\n",
            "Name: Producto, dtype: int64\n",
            "\n",
            "\n"
          ]
        }
      ]
    },
    {
      "cell_type": "code",
      "source": [
        "tuplas_productos_tienda_1 = []# list(zip(productos_tienda_1.index, productos_tienda_1.values))\n",
        "for grupo, valor in productos_tienda_1.items():"
      ],
      "metadata": {
        "id": "dL-2e6ObVqkm",
        "outputId": "b5bead77-5777-48cc-9018-ab6f18b1b938",
        "colab": {
          "base_uri": "https://localhost:8080/"
        }
      },
      "execution_count": 31,
      "outputs": [
        {
          "output_type": "execute_result",
          "data": {
            "text/plain": [
              "[('Ajedrez de madera', 49),\n",
              " ('Armario', 60),\n",
              " ('Asistente virtual', 40),\n",
              " ('Auriculares', 50),\n",
              " ('Auriculares con micrófono', 33),\n",
              " ('Balón de baloncesto', 55),\n",
              " ('Balón de voleibol', 42),\n",
              " ('Batería', 53),\n",
              " ('Bicicleta', 54),\n",
              " ('Bloques de construcción', 56),\n",
              " ('Cama box', 44),\n",
              " ('Cama king', 44),\n",
              " ('Carrito de control remoto', 52),\n",
              " ('Celular ABXY', 33),\n",
              " ('Ciencia de datos con Python', 39),\n",
              " ('Cubertería', 52),\n",
              " ('Cubo mágico 8x8', 44),\n",
              " ('Cuerda para saltar', 40),\n",
              " ('Dashboards con Power BI', 42),\n",
              " ('Dinosaurio Rex', 40),\n",
              " ('Estufa', 45),\n",
              " ('Guitarra acústica', 46),\n",
              " ('Guitarra eléctrica', 47),\n",
              " ('Impresora', 54),\n",
              " ('Iniciando en programación', 41),\n",
              " ('Iphone 15', 49),\n",
              " ('Juego de mesa', 43),\n",
              " ('Kit de bancas', 44),\n",
              " ('Lavadora de ropa', 47),\n",
              " ('Lavavajillas', 48),\n",
              " ('Mesa de centro', 44),\n",
              " ('Mesa de comedor', 40),\n",
              " ('Mesa de noche', 56),\n",
              " ('Microondas', 60),\n",
              " ('Mochila', 39),\n",
              " ('Modelado predictivo', 51),\n",
              " ('Muñeca bebé', 40),\n",
              " ('Olla de presión', 35),\n",
              " ('Pandereta', 36),\n",
              " ('Refrigerador', 54),\n",
              " ('Secadora de ropa', 58),\n",
              " ('Set de ollas', 43),\n",
              " ('Set de vasos', 41),\n",
              " ('Silla de oficina', 46),\n",
              " ('Sillón', 41),\n",
              " ('Smart TV', 44),\n",
              " ('Smartwatch', 43),\n",
              " ('Sofá reclinable', 46),\n",
              " ('TV LED UHD 4K', 60),\n",
              " ('Tablet ABXY', 42),\n",
              " ('Vaso térmico', 54)]"
            ]
          },
          "metadata": {},
          "execution_count": 31
        }
      ]
    },
    {
      "cell_type": "code",
      "source": [],
      "metadata": {
        "id": "qoyjqijQZHfF",
        "outputId": "7307d60a-452a-4885-877d-5e19120d2592",
        "colab": {
          "base_uri": "https://localhost:8080/"
        }
      },
      "execution_count": 30,
      "outputs": [
        {
          "output_type": "stream",
          "name": "stdout",
          "text": [
            "el producto mas vendio de la tienda 1 es: ('Vaso térmico', np.int64(54))\n",
            "\n",
            "\n"
          ]
        }
      ]
    },
    {
      "cell_type": "markdown",
      "source": [
        "# 5. Envío promedio por tienda"
      ],
      "metadata": {
        "id": "Fl0cGi3bZKqU"
      }
    },
    {
      "cell_type": "code",
      "source": [
        "envio_promedio_tienda_1 = tienda['Costo de envío'].sum()/tienda['Costo de envío'].count()\n",
        "print(f'El costo de envio promedio de la tienda 1 es: ${envio_promedio_tienda_1}\\n\\n')\n",
        "\n",
        "envio_promedio_tienda_2 = tienda2['Costo de envío'].sum()/tienda2['Costo de envío'].count()\n",
        "print(f'El costo de envio promedio de la tienda 2 es: ${envio_promedio_tienda_2}\\n\\n')\n",
        "\n",
        "envio_promedio_tienda_3 = tienda3['Costo de envío'].sum()/tienda3['Costo de envío'].count()\n",
        "print(f'El costo de envio promedio de la tienda 3 es: ${envio_promedio_tienda_3}\\n\\n')\n",
        "\n",
        "envio_promedio_tienda_4 = tienda4['Costo de envío'].sum()/tienda4['Costo de envío'].count()\n",
        "print(f'El costo de envio promedio de la tienda 4 es: ${envio_promedio_tienda_4}\\n\\n')"
      ],
      "metadata": {
        "id": "S2JeaCykZNy9",
        "outputId": "0261cd11-5366-4165-c6e0-0bfcbb854fa0",
        "colab": {
          "base_uri": "https://localhost:8080/"
        }
      },
      "execution_count": 34,
      "outputs": [
        {
          "output_type": "stream",
          "name": "stdout",
          "text": [
            "El costo de envio promedio de la tienda 1 es: $52015.16949152543\n",
            "\n",
            "\n",
            "El costo de envio promedio de la tienda 2 es: $25216.235693090293\n",
            "\n",
            "\n",
            "El costo de envio promedio de la tienda 3 es: $24805.680373039424\n",
            "\n",
            "\n",
            "El costo de envio promedio de la tienda 4 es: $23459.457167090754\n",
            "\n",
            "\n"
          ]
        }
      ]
    },
    {
      "cell_type": "code",
      "source": [],
      "metadata": {
        "id": "0tSdCie9ZQlt"
      },
      "execution_count": null,
      "outputs": []
    }
  ]
}